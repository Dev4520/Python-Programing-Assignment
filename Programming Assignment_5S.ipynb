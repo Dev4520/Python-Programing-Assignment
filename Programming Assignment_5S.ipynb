{
 "cells": [
  {
   "cell_type": "markdown",
   "metadata": {},
   "source": [
    "# Python Basic Programming Assignment-5"
   ]
  },
  {
   "cell_type": "markdown",
   "metadata": {},
   "source": [
    "1. Write a Python Program to find LCM?"
   ]
  },
  {
   "cell_type": "code",
   "execution_count": 12,
   "metadata": {},
   "outputs": [],
   "source": [
    "def lcm(a,b):\n",
    "    '''Function whiich the LCM of two nummber'''\n",
    "    high = a if a > b else b\n",
    "    \n",
    "    while True:\n",
    "        if (high%a==0) and (high%b==0):\n",
    "            break\n",
    "        else:\n",
    "            high += 1\n",
    "    return high"
   ]
  },
  {
   "cell_type": "code",
   "execution_count": 13,
   "metadata": {},
   "outputs": [
    {
     "data": {
      "text/plain": [
       "154"
      ]
     },
     "execution_count": 13,
     "metadata": {},
     "output_type": "execute_result"
    }
   ],
   "source": [
    "a = 22\n",
    "b = 7\n",
    "lcm(a,b)"
   ]
  },
  {
   "cell_type": "markdown",
   "metadata": {},
   "source": [
    "2. Write a Python Program to Find HCF?"
   ]
  },
  {
   "cell_type": "code",
   "execution_count": 18,
   "metadata": {},
   "outputs": [],
   "source": [
    "def hcf(a,b):\n",
    "    low = a if a < b else b\n",
    "    for i in range(1, low+1):\n",
    "        if (a%i==0) and (b%i==0):\n",
    "            hcf = 1\n",
    "    return hcf\n",
    "    "
   ]
  },
  {
   "cell_type": "code",
   "execution_count": 19,
   "metadata": {},
   "outputs": [
    {
     "data": {
      "text/plain": [
       "1"
      ]
     },
     "execution_count": 19,
     "metadata": {},
     "output_type": "execute_result"
    }
   ],
   "source": [
    "a = 53\n",
    "b = 33\n",
    "\n",
    "hcf(a,b)"
   ]
  },
  {
   "cell_type": "code",
   "execution_count": 20,
   "metadata": {},
   "outputs": [
    {
     "data": {
      "text/plain": [
       "1"
      ]
     },
     "execution_count": 20,
     "metadata": {},
     "output_type": "execute_result"
    }
   ],
   "source": [
    "a = 52\n",
    "b = 24\n",
    "\n",
    "hcf(a,b)"
   ]
  },
  {
   "cell_type": "code",
   "execution_count": 21,
   "metadata": {},
   "outputs": [],
   "source": [
    "def conversion(num):\n",
    "    print('Binary:     ',bin(num))\n",
    "    print('octal:      ',bin(num))\n",
    "    print('Hexadecimal:',bin(num))"
   ]
  },
  {
   "cell_type": "code",
   "execution_count": 22,
   "metadata": {},
   "outputs": [
    {
     "name": "stdout",
     "output_type": "stream",
     "text": [
      "Binary:      0b111\n",
      "octal:       0b111\n",
      "Hexadecimal: 0b111\n"
     ]
    }
   ],
   "source": [
    "conversion(7)"
   ]
  },
  {
   "cell_type": "code",
   "execution_count": 23,
   "metadata": {},
   "outputs": [
    {
     "name": "stdout",
     "output_type": "stream",
     "text": [
      "Binary:      0b101110001\n",
      "octal:       0b101110001\n",
      "Hexadecimal: 0b101110001\n"
     ]
    }
   ],
   "source": [
    "conversion(369)"
   ]
  },
  {
   "cell_type": "markdown",
   "metadata": {},
   "source": [
    "4. Write a Python Program to Find ASCII value of a character?"
   ]
  },
  {
   "cell_type": "code",
   "execution_count": 28,
   "metadata": {},
   "outputs": [
    {
     "name": "stdout",
     "output_type": "stream",
     "text": [
      "Enter a character: A\n",
      "ASCII valur of A is 65\n"
     ]
    }
   ],
   "source": [
    "try:\n",
    "    char = input(\"Enter a character: \")\n",
    "    ASCII = ord(char)\n",
    "    print('ASCII valur of {} is {}'.format(char, ASCII))\n",
    "except Exception as e:\n",
    "    print(e)"
   ]
  },
  {
   "cell_type": "markdown",
   "metadata": {},
   "source": [
    "5. Write a Python Program to Make a Simple Calculator with 4 basic mathematic operations?"
   ]
  },
  {
   "cell_type": "code",
   "execution_count": 34,
   "metadata": {},
   "outputs": [
    {
     "name": "stdout",
     "output_type": "stream",
     "text": [
      "Enter first number: 189\n",
      "Enter second number: 9\n",
      "\n",
      "For addition:    +\n",
      "For subtration:    -\n",
      "For multiplication *\n",
      "For division       /\n",
      "For Exit:          X\n",
      "\n",
      "Enter the choice for mathematic operations: +\n",
      "\n",
      "Result:  198\n",
      "Enter first number: 123\n",
      "Enter second number: 3\n",
      "\n",
      "For addition:    +\n",
      "For subtration:    -\n",
      "For multiplication *\n",
      "For division       /\n",
      "For Exit:          X\n",
      "\n",
      "Enter the choice for mathematic operations: /\n",
      "\n",
      "Result:  198\n",
      "Enter first number: 145\n",
      "Enter second number: 10\n",
      "\n",
      "For addition:    +\n",
      "For subtration:    -\n",
      "For multiplication *\n",
      "For division       /\n",
      "For Exit:          X\n",
      "\n",
      "Enter the choice for mathematic operations: *\n",
      "\n",
      "Result:  1450\n",
      "Enter first number: 369\n",
      "Enter second number: 12\n",
      "\n",
      "For addition:    +\n",
      "For subtration:    -\n",
      "For multiplication *\n",
      "For division       /\n",
      "For Exit:          X\n",
      "\n",
      "Enter the choice for mathematic operations: X\n"
     ]
    }
   ],
   "source": [
    "try:\n",
    "    \n",
    "    while True:\n",
    "        num1 = int(input('Enter first number: '))\n",
    "        num2 = int(input('Enter second number: '))\n",
    "        \n",
    "        print('\\nFor addition:    +')\n",
    "        print('For subtration:    -')\n",
    "        print('For multiplication *')\n",
    "        print('For division       /')\n",
    "        print('For Exit:          X')\n",
    "        \n",
    "        ch = input('\\nEnter the choice for mathematic operations: ')\n",
    "        \n",
    "        if ch == '+':\n",
    "            output = num1 + num2\n",
    "        elif ch == '-':\n",
    "            output = num1 - num2\n",
    "        elif ch == '*':\n",
    "            output = num1 * num2\n",
    "        elif ch == '/':\n",
    "            outpur = num1 / num2\n",
    "        if ch == 'X' or ch == 'x':\n",
    "            break\n",
    "            \n",
    "        print('\\nResult: ',output)\n",
    "    \n",
    "except Exception as e:\n",
    "    print(e)\n"
   ]
  },
  {
   "cell_type": "code",
   "execution_count": null,
   "metadata": {},
   "outputs": [],
   "source": []
  }
 ],
 "metadata": {
  "kernelspec": {
   "display_name": "Python 3",
   "language": "python",
   "name": "python3"
  },
  "language_info": {
   "codemirror_mode": {
    "name": "ipython",
    "version": 3
   },
   "file_extension": ".py",
   "mimetype": "text/x-python",
   "name": "python",
   "nbconvert_exporter": "python",
   "pygments_lexer": "ipython3",
   "version": "3.8.3"
  }
 },
 "nbformat": 4,
 "nbformat_minor": 4
}
