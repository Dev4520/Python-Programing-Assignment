{
 "cells": [
  {
   "cell_type": "markdown",
   "metadata": {},
   "source": [
    "# Programming Assignment_3"
   ]
  },
  {
   "cell_type": "markdown",
   "metadata": {},
   "source": [
    "1. Write a Python Progrma to Find the Factrial of a Number?"
   ]
  },
  {
   "cell_type": "code",
   "execution_count": 10,
   "metadata": {},
   "outputs": [
    {
     "name": "stdout",
     "output_type": "stream",
     "text": [
      "Enter the number: 5\n",
      "\n",
      "factorial of 5: 120 \n"
     ]
    }
   ],
   "source": [
    "num = int(input('Enter the number: '))\n",
    "\n",
    "fact = 1\n",
    "for i in range(num, 0 ,-1):\n",
    "    fact = fact*i\n",
    "print('\\nfactorial of {}: {} '.format(num,fact))"
   ]
  },
  {
   "cell_type": "markdown",
   "metadata": {},
   "source": [
    "2. Write a Python Program to Diaplay the multiplication Table?"
   ]
  },
  {
   "cell_type": "code",
   "execution_count": 12,
   "metadata": {},
   "outputs": [
    {
     "name": "stdout",
     "output_type": "stream",
     "text": [
      "Enter the number: 7\n",
      "\n",
      " 7 x 1 = 7\n",
      "\n",
      " 7 x 2 = 14\n",
      "\n",
      " 7 x 3 = 21\n",
      "\n",
      " 7 x 4 = 28\n",
      "\n",
      " 7 x 5 = 35\n",
      "\n",
      " 7 x 6 = 42\n",
      "\n",
      " 7 x 7 = 49\n",
      "\n",
      " 7 x 8 = 56\n",
      "\n",
      " 7 x 9 = 63\n",
      "\n",
      " 7 x 10 = 70\n"
     ]
    }
   ],
   "source": [
    "num = int(input('Enter the number: '))\n",
    "\n",
    "for i in range(1,11):\n",
    "    print('\\n {} x {} = {}'.format(num,i,num*i))"
   ]
  },
  {
   "cell_type": "markdown",
   "metadata": {},
   "source": [
    "3. Write a Python Program to Print the Fibonacci sequence?"
   ]
  },
  {
   "cell_type": "code",
   "execution_count": 18,
   "metadata": {},
   "outputs": [
    {
     "name": "stdout",
     "output_type": "stream",
     "text": [
      "Enter a length: 11\n",
      "0 1 1 2 3 5 8 13 21 34 55 "
     ]
    }
   ],
   "source": [
    "fibo_length = int(input('Enter a length: '))\n",
    "\n",
    "a = 0\n",
    "b = 1\n",
    "print(a, end = ' ')\n",
    "print(b, end = ' ')\n",
    "\n",
    "while(fibo_length-2 > 0):\n",
    "    nt = a+b\n",
    "    print(nt, end=' ')\n",
    "    a = b\n",
    "    b = nt\n",
    "    \n",
    "    fibo_length -=1"
   ]
  },
  {
   "cell_type": "markdown",
   "metadata": {},
   "source": [
    "4. Write a Python Program to Check Armstrong Number"
   ]
  },
  {
   "cell_type": "code",
   "execution_count": 40,
   "metadata": {},
   "outputs": [],
   "source": [
    "import math"
   ]
  },
  {
   "cell_type": "code",
   "execution_count": 41,
   "metadata": {},
   "outputs": [],
   "source": [
    "def fibo_check(num):\n",
    "    l = len(str(num))  ## 1 = number of digits of number\n",
    "    sum1 = 0\n",
    "    temp_num = num\n",
    "    while(num > 0):\n",
    "        d = num % 10\n",
    "        sum1 += int(math.pow(d,1))\n",
    "        num = num // 10\n",
    "        \n",
    "    if(sum1 == int(temp_num)):\n",
    "        return 1\n",
    "    else:\n",
    "        return 0"
   ]
  },
  {
   "cell_type": "code",
   "execution_count": 42,
   "metadata": {},
   "outputs": [
    {
     "name": "stdout",
     "output_type": "stream",
     "text": [
      "Enter a number: 153\n",
      "153 is not an armstrong number\n"
     ]
    }
   ],
   "source": [
    "num = int(input('Enter a number: '))\n",
    "\n",
    "if(fibo_check(num)):\n",
    "    print('{} is an armstring number'.format(num))\n",
    "else:\n",
    "    print('{} is not an armstrong number'.format(num))"
   ]
  },
  {
   "cell_type": "code",
   "execution_count": 43,
   "metadata": {},
   "outputs": [
    {
     "name": "stdout",
     "output_type": "stream",
     "text": [
      "Enter the number:1221\n",
      "1221 is not an armstrong number\n"
     ]
    }
   ],
   "source": [
    "num = int(input('Enter the number:'))\n",
    "\n",
    "if(fibo_check(num)):\n",
    "    print('{} is an armstrong number'.format(num))\n",
    "else:\n",
    "    print('{} is not an armstrong number'.format(num))"
   ]
  },
  {
   "cell_type": "markdown",
   "metadata": {},
   "source": [
    "5. Write a Python Program to Fins Armsrong Number in an Interval?"
   ]
  },
  {
   "cell_type": "code",
   "execution_count": 44,
   "metadata": {},
   "outputs": [
    {
     "ename": "SyntaxError",
     "evalue": "invalid syntax (<ipython-input-44-925b636f85d5>, line 6)",
     "output_type": "error",
     "traceback": [
      "\u001b[1;36m  File \u001b[1;32m\"<ipython-input-44-925b636f85d5>\"\u001b[1;36m, line \u001b[1;32m6\u001b[0m\n\u001b[1;33m    for i in range(low, high+1):\u001b[0m\n\u001b[1;37m                               ^\u001b[0m\n\u001b[1;31mSyntaxError\u001b[0m\u001b[1;31m:\u001b[0m invalid syntax\n"
     ]
    }
   ],
   "source": [
    "low  = int(input('Enter the lower value of range: '))\n",
    "high = int(input('Enter the high value of range: '))\n",
    "\n",
    "print('\\nFrom {} to {} following are the Armstrong Number:'.format(low,high, end='\\n')\n",
    "      \n",
    "for i in range(low, high+1):\n",
    "      if(fibo_check(i)):\n",
    "          print(i, end=' ')\n",
    "      \n",
    "    "
   ]
  },
  {
   "cell_type": "markdown",
   "metadata": {},
   "source": [
    "6. Write a Python Progtam to Find the Sum Natural Numbers?"
   ]
  },
  {
   "cell_type": "code",
   "execution_count": 39,
   "metadata": {},
   "outputs": [
    {
     "name": "stdout",
     "output_type": "stream",
     "text": [
      "Enter a positive number:100\n",
      "sum of 100 natural number is5050\n"
     ]
    }
   ],
   "source": [
    "num = int(input('Enter a positive number:'))\n",
    "\n",
    "total_sum = 0\n",
    "for i in range(1, num+1):\n",
    "    total_sum += i\n",
    "print('sum of {} natural number is{}'.format(num, total_sum))"
   ]
  },
  {
   "cell_type": "code",
   "execution_count": null,
   "metadata": {},
   "outputs": [],
   "source": []
  }
 ],
 "metadata": {
  "kernelspec": {
   "display_name": "Python 3",
   "language": "python",
   "name": "python3"
  },
  "language_info": {
   "codemirror_mode": {
    "name": "ipython",
    "version": 3
   },
   "file_extension": ".py",
   "mimetype": "text/x-python",
   "name": "python",
   "nbconvert_exporter": "python",
   "pygments_lexer": "ipython3",
   "version": "3.8.3"
  }
 },
 "nbformat": 4,
 "nbformat_minor": 4
}
